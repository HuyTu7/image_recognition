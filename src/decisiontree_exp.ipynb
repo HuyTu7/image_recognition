{
 "cells": [
  {
   "cell_type": "code",
   "execution_count": null,
   "metadata": {
    "collapsed": true
   },
   "outputs": [],
   "source": [
    "import math"
   ]
  },
  {
   "cell_type": "code",
   "execution_count": null,
   "metadata": {
    "collapsed": true
   },
   "outputs": [],
   "source": [
    "class decision_node:\n",
    "    def __init__(self, feature=-1, val=None, results=None, rb=None, lb=None):\n",
    "        self.feature = feature \n",
    "        self.value = val\n",
    "        self.results = results \n",
    "        self.leftb = lb \n",
    "        self.rightb = rb "
   ]
  },
  {
   "cell_type": "code",
   "execution_count": null,
   "metadata": {
    "collapsed": true
   },
   "outputs": [],
   "source": [
    "def sets_split(rows, column, value):\n",
    "    split_function = lambda row:row[column]==value\n",
    "    set1 = [row for row in rows if split_function(row)] \n",
    "    set2 = [row for row in rows if not split_function(row)]\n",
    "    return [set1, set2]"
   ]
  },
  {
   "cell_type": "code",
   "execution_count": null,
   "metadata": {
    "collapsed": true
   },
   "outputs": [],
   "source": [
    "def entropy(data, labels):\n",
    "    results_freq = {}\n",
    "    ent = 0.0\n",
    "    for i in range(len(data)):\n",
    "        if labels[i] in results_freq.keys():\n",
    "            results_freq[labels[i]] += 1\n",
    "        else:\n",
    "            results_freq[labels[i]] = 1\n",
    " \n",
    "    for label, freq in results_freq.items():\n",
    "        ent -= freq/len(data)) * math.log(freq/len(data), 2) \n",
    "    return data_entropy\n",
    "\n",
    "\n",
    "def info_gain(set1, set2, data_length, current_score):\n",
    "    p = float(len(set1)) / data_length\n",
    "    info = current_score - p*entropy(set1) - (1-p)*entropy(set2)\n",
    "    return info"
   ]
  },
  {
   "cell_type": "code",
   "execution_count": null,
   "metadata": {
    "collapsed": true
   },
   "outputs": [],
   "source": [
    "def get_best_split(data, split_eval='median'):\n",
    "    column_count = len(data[0][0])\n",
    "    current_score = entropy(data[0], data[1])\n",
    "    best = {'score': 0, 'criteria': None, 'sets': None}\n",
    "    for col in range(0, column_count):\n",
    "        if split_decision == 'median':\n",
    "            value = column_values.median()\n",
    "        else:\n",
    "            value = column_values.mean()\n",
    "        set1, set2 = divideset(rows, col, value)\n",
    "        info = info_gain(set1, set2, data_length, current_score)\n",
    "        if info > best['score'] and len(set1) > 0 and len(set2) > 0:\n",
    "            best['score'], best['feature'], best['sets'] = info, (col, value), (set1, set2)\n",
    "    return best"
   ]
  },
  {
   "cell_type": "code",
   "execution_count": null,
   "metadata": {
    "collapsed": true
   },
   "outputs": [],
   "source": [
    "def grow_tree(data):\n",
    "    if len(data) == 0: \n",
    "        return decision_node()\n",
    "    \n",
    "    best = get_best_split(data, 'median')\n",
    "    if best['score'] > 0:\n",
    "        right_branch, left_branch = buildtree(best['sets'][0]), buildtree(best['sets'][1])\n",
    "        return decision_node(feature=best['feature'][0], val=best['feature'][1],\n",
    "                             rb=right_branch, lb=left_branch)\n",
    "    else:\n",
    "        res = {}\n",
    "        for record in data[1]:\n",
    "            if record in res:\n",
    "                res[record] += 1\n",
    "            else:\n",
    "                res[record] == 1\n",
    "        return decision_node(results=res)"
   ]
  },
  {
   "cell_type": "code",
   "execution_count": null,
   "metadata": {
    "collapsed": true
   },
   "outputs": [],
   "source": [
    "def predict(node, row):\n",
    "    if row[node['feature']] < node['value']:\n",
    "        if isinstance(node['leftb'], dict):\n",
    "            return predict(node['leftb'], row)\n",
    "        else:\n",
    "            return node['leftb']\n",
    "    else:\n",
    "        if isinstance(node['rightb'], dict):\n",
    "            return predict(node['rightb'], row)\n",
    "        else:\n",
    "            return node['rightb']"
   ]
  },
  {
   "cell_type": "code",
   "execution_count": null,
   "metadata": {
    "collapsed": true
   },
   "outputs": [],
   "source": [
    "def experiment(train):\n",
    "    tree = build_tree(train)\n",
    "    predictions = list()\n",
    "    for row in test:\n",
    "        prediction = predict(tree, row)\n",
    "        predictions.append(prediction)\n",
    "    return predictions"
   ]
  }
 ],
 "metadata": {
  "kernelspec": {
   "display_name": "Python 2",
   "language": "python",
   "name": "python2"
  },
  "language_info": {
   "codemirror_mode": {
    "name": "ipython",
    "version": 2
   },
   "file_extension": ".py",
   "mimetype": "text/x-python",
   "name": "python",
   "nbconvert_exporter": "python",
   "pygments_lexer": "ipython2",
   "version": "2.7.14"
  }
 },
 "nbformat": 4,
 "nbformat_minor": 2
}
