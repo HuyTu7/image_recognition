{
 "cells": [
  {
   "cell_type": "code",
   "execution_count": 1,
   "metadata": {
    "collapsed": true
   },
   "outputs": [],
   "source": [
    "import numpy as np\n",
    "from sklearn.neighbors import KNeighborsClassifier\n",
    "from sklearn import tree\n",
    "from sklearn.metrics import classification_report\n",
    "from random import shuffle\n",
    "import pickle\n",
    "\n",
    "def pickle_operating(fname, item):\n",
    "    # save or load the pickle file.\n",
    "    file_name = '%s.pickle' % fname\n",
    "    print(file_name)\n",
    "    if not item:\n",
    "        with open(file_name, 'rb') as fs:\n",
    "            item = pickle.load(fs)\n",
    "            return item\n",
    "    else:\n",
    "        with open(file_name, 'wb') as fs:\n",
    "            pickle.dump(item, fs, protocol=pickle.HIGHEST_PROTOCOL)"
   ]
  },
  {
   "cell_type": "code",
   "execution_count": 2,
   "metadata": {
    "collapsed": true
   },
   "outputs": [],
   "source": [
    "def learner(model):\n",
    "    if model == 'knn':\n",
    "        clf = KNeighborsClassifier(n_neighbors=3)\n",
    "    elif model == 'tree':\n",
    "        clf = tree.DecisionTreeClassifier()\n",
    "    else:\n",
    "        raise NameError('Unknown machine learning model. Please us one of: rf, svm, nb')\n",
    "    return clf\n",
    "\n",
    "\n",
    "def experiment(train_data, test_data, model):\n",
    "    shuffle(train_data)\n",
    "    shuffle(test_data)\n",
    "    X_train, y_train = [x[0] for x in train_data], [x[1] for x in train_data]\n",
    "    X_test, y_test = [x[0] for x in test_data], [x[1] for x in test_data]\n",
    "    model.fit(X_train, y_train)\n",
    "    print(\"Scores on test set: %s\" % classification_report(y_test, model.predict(X_test)))\n",
    "    print()"
   ]
  },
  {
   "cell_type": "code",
   "execution_count": 5,
   "metadata": {},
   "outputs": [
    {
     "name": "stdout",
     "output_type": "stream",
     "text": [
      "MNIST_data_2.pickle\n",
      "(60000, 10000)\n"
     ]
    }
   ],
   "source": [
    "dataset = pickle_operating('MNIST_data_2', None)\n",
    "print(len(dataset['train']), len(dataset['test']))"
   ]
  },
  {
   "cell_type": "code",
   "execution_count": 6,
   "metadata": {},
   "outputs": [
    {
     "name": "stdout",
     "output_type": "stream",
     "text": [
      "Scores on test set:              precision    recall  f1-score   support\n",
      "\n",
      "          0       0.97      0.99      0.98       980\n",
      "          1       0.99      1.00      0.99      1135\n",
      "          2       0.96      0.98      0.97      1032\n",
      "          3       0.96      0.96      0.96      1010\n",
      "          4       0.95      0.94      0.95       982\n",
      "          5       0.97      0.95      0.96       892\n",
      "          6       0.98      0.98      0.98       958\n",
      "          7       0.97      0.95      0.96      1028\n",
      "          8       0.97      0.95      0.96       974\n",
      "          9       0.92      0.94      0.93      1009\n",
      "\n",
      "avg / total       0.96      0.96      0.96     10000\n",
      "\n",
      "()\n",
      "Scores on test set:              precision    recall  f1-score   support\n",
      "\n",
      "          0       0.91      0.90      0.91       980\n",
      "          1       0.97      0.97      0.97      1135\n",
      "          2       0.86      0.86      0.86      1032\n",
      "          3       0.83      0.83      0.83      1010\n",
      "          4       0.78      0.79      0.79       982\n",
      "          5       0.81      0.79      0.80       892\n",
      "          6       0.91      0.89      0.90       958\n",
      "          7       0.87      0.85      0.86      1028\n",
      "          8       0.79      0.82      0.80       974\n",
      "          9       0.74      0.77      0.76      1009\n",
      "\n",
      "avg / total       0.85      0.85      0.85     10000\n",
      "\n",
      "()\n"
     ]
    }
   ],
   "source": [
    "model = learner('knn')\n",
    "experiment(dataset['train'], dataset['test'], model)\n",
    "model = learner('tree')\n",
    "experiment(dataset['train'], dataset['test'], model)"
   ]
  },
  {
   "cell_type": "code",
   "execution_count": null,
   "metadata": {
    "collapsed": true
   },
   "outputs": [],
   "source": []
  }
 ],
 "metadata": {
  "kernelspec": {
   "display_name": "Python 2",
   "language": "python",
   "name": "python2"
  },
  "language_info": {
   "codemirror_mode": {
    "name": "ipython",
    "version": 2
   },
   "file_extension": ".py",
   "mimetype": "text/x-python",
   "name": "python",
   "nbconvert_exporter": "python",
   "pygments_lexer": "ipython2",
   "version": "2.7.14"
  }
 },
 "nbformat": 4,
 "nbformat_minor": 2
}
