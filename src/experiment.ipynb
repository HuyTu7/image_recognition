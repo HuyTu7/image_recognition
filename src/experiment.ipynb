{
 "cells": [
  {
   "cell_type": "code",
   "execution_count": 1,
   "metadata": {
    "collapsed": true
   },
   "outputs": [],
   "source": [
    "import numpy as np\n",
    "from sklearn.neighbors import KNeighborsClassifier\n",
    "from sklearn import tree\n",
    "from sklearn.metrics import classification_report\n",
    "from random import shuffle\n",
    "import pickle\n",
    "\n",
    "def pickle_operating(fname, item):\n",
    "    # save or load the pickle file.\n",
    "    file_name = '%s.pickle' % fname\n",
    "    print(file_name)\n",
    "    if not item:\n",
    "        with open(file_name, 'rb') as fs:\n",
    "            item = pickle.load(fs)\n",
    "            return item\n",
    "    else:\n",
    "        with open(file_name, 'wb') as fs:\n",
    "            pickle.dump(item, fs, protocol=pickle.HIGHEST_PROTOCOL)"
   ]
  },
  {
   "cell_type": "code",
   "execution_count": 2,
   "metadata": {
    "collapsed": true
   },
   "outputs": [],
   "source": [
    "def learner(model):\n",
    "    if model == 'knn':\n",
    "        clf = KNeighborsClassifier(n_neighbors=3)\n",
    "    elif model == 'tree':\n",
    "        clf = tree.DecisionTreeClassifier()\n",
    "    else:\n",
    "        raise NameError('Unknown machine learning model. Please us one of: rf, svm, nb')\n",
    "    return clf\n",
    "\n",
    "\n",
    "def experiment(train_data, test_data, model):\n",
    "    shuffle(train_data)\n",
    "    shuffle(test_data)\n",
    "    X_train, y_train = [x[0] for x in train_data], [x[1] for x in train_data]\n",
    "    X_test, y_test = [x[0] for x in test_data], [x[1] for x in test_data]\n",
    "    model.fit(X_train, y_train)\n",
    "    print(\"Scores on test set: %s\" % classification_report(y_test, model.predict(X_test)))\n",
    "    print()"
   ]
  },
  {
   "cell_type": "code",
   "execution_count": 9,
   "metadata": {},
   "outputs": [
    {
     "name": "stdout",
     "output_type": "stream",
     "text": [
      "Caltech_data_3.pickle\n",
      "(320, 324)\n",
      "Scores on test set:              precision    recall  f1-score   support\n",
      "\n",
      "          1       0.18      0.61      0.27        36\n",
      "          2       0.41      0.35      0.38        31\n",
      "          3       0.54      0.58      0.56        33\n",
      "          4       0.00      0.00      0.00        21\n",
      "          5       0.83      0.56      0.67        43\n",
      "          6       0.32      0.20      0.24        46\n",
      "          7       0.32      0.22      0.26        32\n",
      "          8       0.07      0.04      0.05        27\n",
      "          9       0.88      0.28      0.42        25\n",
      "         10       0.94      0.57      0.71        30\n",
      "\n",
      "avg / total       0.46      0.36      0.37       324\n",
      "\n",
      "()\n",
      "Scores on test set:              precision    recall  f1-score   support\n",
      "\n",
      "          1       0.21      0.19      0.20        36\n",
      "          2       0.26      0.29      0.28        31\n",
      "          3       0.47      0.58      0.52        33\n",
      "          4       0.26      0.33      0.29        21\n",
      "          5       0.55      0.63      0.59        43\n",
      "          6       0.26      0.20      0.23        46\n",
      "          7       0.26      0.28      0.27        32\n",
      "          8       0.27      0.22      0.24        27\n",
      "          9       0.38      0.24      0.29        25\n",
      "         10       0.61      0.67      0.63        30\n",
      "\n",
      "avg / total       0.36      0.37      0.36       324\n",
      "\n",
      "()\n"
     ]
    }
   ],
   "source": [
    "dataset = pickle_operating('Caltech_data_3', None)\n",
    "print(len(dataset['train']), len(dataset['test']))\n",
    "model = learner('knn')\n",
    "experiment(dataset['train'], dataset['test'], model)\n",
    "model = learner('tree')\n",
    "experiment(dataset['train'], dataset['test'], model)"
   ]
  },
  {
   "cell_type": "code",
   "execution_count": 10,
   "metadata": {},
   "outputs": [
    {
     "name": "stdout",
     "output_type": "stream",
     "text": [
      "MNIST_data_2.pickle\n",
      "(60000, 10000)\n",
      "Scores on test set:              precision    recall  f1-score   support\n",
      "\n",
      "          0       0.97      0.99      0.98       980\n",
      "          1       0.99      1.00      0.99      1135\n",
      "          2       0.96      0.98      0.97      1032\n",
      "          3       0.96      0.96      0.96      1010\n",
      "          4       0.95      0.94      0.95       982\n",
      "          5       0.97      0.95      0.96       892\n",
      "          6       0.98      0.98      0.98       958\n",
      "          7       0.97      0.95      0.96      1028\n",
      "          8       0.97      0.95      0.96       974\n",
      "          9       0.92      0.94      0.93      1009\n",
      "\n",
      "avg / total       0.96      0.96      0.96     10000\n",
      "\n",
      "()\n",
      "Scores on test set:              precision    recall  f1-score   support\n",
      "\n",
      "          0       0.90      0.90      0.90       980\n",
      "          1       0.96      0.96      0.96      1135\n",
      "          2       0.85      0.86      0.86      1032\n",
      "          3       0.82      0.82      0.82      1010\n",
      "          4       0.78      0.80      0.79       982\n",
      "          5       0.80      0.78      0.79       892\n",
      "          6       0.91      0.89      0.90       958\n",
      "          7       0.88      0.84      0.86      1028\n",
      "          8       0.79      0.81      0.80       974\n",
      "          9       0.76      0.77      0.77      1009\n",
      "\n",
      "avg / total       0.85      0.85      0.85     10000\n",
      "\n",
      "()\n"
     ]
    }
   ],
   "source": [
    "dataset = pickle_operating('MNIST_data_2', None)\n",
    "print(len(dataset['train']), len(dataset['test']))\n",
    "model = learner('knn')\n",
    "experiment(dataset['train'], dataset['test'], model)\n",
    "model = learner('tree')\n",
    "experiment(dataset['train'], dataset['test'], model)"
   ]
  },
  {
   "cell_type": "code",
   "execution_count": null,
   "metadata": {
    "collapsed": true
   },
   "outputs": [],
   "source": []
  }
 ],
 "metadata": {
  "kernelspec": {
   "display_name": "Python 2",
   "language": "python",
   "name": "python2"
  },
  "language_info": {
   "codemirror_mode": {
    "name": "ipython",
    "version": 2
   },
   "file_extension": ".py",
   "mimetype": "text/x-python",
   "name": "python",
   "nbconvert_exporter": "python",
   "pygments_lexer": "ipython2",
   "version": "2.7.14"
  }
 },
 "nbformat": 4,
 "nbformat_minor": 2
}
