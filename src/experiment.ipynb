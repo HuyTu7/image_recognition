{
 "cells": [
  {
   "cell_type": "code",
   "execution_count": 1,
   "metadata": {
    "collapsed": true
   },
   "outputs": [],
   "source": [
    "import numpy as np\n",
    "from sklearn.neighbors import KNeighborsClassifier\n",
    "from sklearn import tree\n",
    "from sklearn.metrics import classification_report\n",
    "from random import shuffle\n",
    "import pickle\n",
    "\n",
    "def pickle_operating(fname, item):\n",
    "    # save or load the pickle file.\n",
    "    file_name = '%s.pickle' % fname\n",
    "    print(file_name)\n",
    "    if not item:\n",
    "        with open(file_name, 'rb') as fs:\n",
    "            item = pickle.load(fs)\n",
    "            return item\n",
    "    else:\n",
    "        with open(file_name, 'wb') as fs:\n",
    "            pickle.dump(item, fs, protocol=pickle.HIGHEST_PROTOCOL)"
   ]
  },
  {
   "cell_type": "code",
   "execution_count": 2,
   "metadata": {
    "collapsed": true
   },
   "outputs": [],
   "source": [
    "def learner(model):\n",
    "    if model == 'knn':\n",
    "        clf = KNeighborsClassifier(n_neighbors=3)\n",
    "    elif model == 'tree':\n",
    "        clf = tree.DecisionTreeClassifier()\n",
    "    else:\n",
    "        raise NameError('Unknown machine learning model. Please us one of: rf, svm, nb')\n",
    "    return clf\n",
    "\n",
    "\n",
    "def experiment(train_data, test_data, model):\n",
    "    shuffle(train_data)\n",
    "    shuffle(test_data)\n",
    "    X_train, y_train = [x[0] for x in train_data], [x[1] for x in train_data]\n",
    "    X_test, y_test = [x[0] for x in test_data], [x[1] for x in test_data]\n",
    "    model.fit(X_train, y_train)\n",
    "    print(\"Scores on test set: %s\" % classification_report(y_test, model.predict(X_test)))\n",
    "    print()"
   ]
  },
  {
   "cell_type": "code",
   "execution_count": 3,
   "metadata": {},
   "outputs": [
    {
     "name": "stdout",
     "output_type": "stream",
     "text": [
      "dataset_1.pickle\n",
      "(320, 324)\n"
     ]
    }
   ],
   "source": [
    "dataset = pickle_operating('dataset_1', None)\n",
    "del dataset['train'][0]\n",
    "del dataset['test'][0]\n",
    "print(len(dataset['train']), len(dataset['test']))"
   ]
  },
  {
   "cell_type": "code",
   "execution_count": 4,
   "metadata": {},
   "outputs": [
    {
     "name": "stdout",
     "output_type": "stream",
     "text": [
      "Scores on test set:              precision    recall  f1-score   support\n",
      "\n",
      "          1       0.18      0.42      0.25        36\n",
      "          2       0.23      0.23      0.23        31\n",
      "          3       0.20      0.45      0.28        33\n",
      "          4       0.17      0.19      0.18        21\n",
      "          5       0.45      0.51      0.48        43\n",
      "          6       0.53      0.17      0.26        46\n",
      "          7       0.57      0.41      0.47        32\n",
      "          8       0.38      0.11      0.17        27\n",
      "          9       0.60      0.12      0.20        25\n",
      "         10       1.00      0.47      0.64        30\n",
      "\n",
      "avg / total       0.44      0.32      0.33       324\n",
      "\n",
      "()\n",
      "Scores on test set:              precision    recall  f1-score   support\n",
      "\n",
      "          1       0.05      0.03      0.04        36\n",
      "          2       0.24      0.32      0.27        31\n",
      "          3       0.19      0.33      0.24        33\n",
      "          4       0.00      0.00      0.00        21\n",
      "          5       0.33      0.30      0.32        43\n",
      "          6       0.38      0.26      0.31        46\n",
      "          7       0.21      0.22      0.21        32\n",
      "          8       0.11      0.11      0.11        27\n",
      "          9       0.20      0.24      0.22        25\n",
      "         10       0.78      0.60      0.68        30\n",
      "\n",
      "avg / total       0.26      0.25      0.25       324\n",
      "\n",
      "()\n"
     ]
    }
   ],
   "source": [
    "model = learner('knn')\n",
    "experiment(dataset['train'], dataset['test'], model)\n",
    "model = learner('tree')\n",
    "experiment(dataset['train'], dataset['test'], model)"
   ]
  },
  {
   "cell_type": "code",
   "execution_count": null,
   "metadata": {
    "collapsed": true
   },
   "outputs": [],
   "source": []
  }
 ],
 "metadata": {
  "kernelspec": {
   "display_name": "Python 2",
   "language": "python",
   "name": "python2"
  },
  "language_info": {
   "codemirror_mode": {
    "name": "ipython",
    "version": 2
   },
   "file_extension": ".py",
   "mimetype": "text/x-python",
   "name": "python",
   "nbconvert_exporter": "python",
   "pygments_lexer": "ipython2",
   "version": "2.7.14"
  }
 },
 "nbformat": 4,
 "nbformat_minor": 2
}
