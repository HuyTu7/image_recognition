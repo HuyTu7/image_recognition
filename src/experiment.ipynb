{
 "cells": [
  {
   "cell_type": "code",
   "execution_count": 1,
   "metadata": {
    "collapsed": true
   },
   "outputs": [],
   "source": [
    "import numpy as np\n",
    "from sklearn.neighbors import KNeighborsClassifier\n",
    "from sklearn import tree\n",
    "from sklearn.metrics import classification_report\n",
    "from random import shuffle\n",
    "import pickle\n",
    "\n",
    "def pickle_operating(fname, item):\n",
    "    # save or load the pickle file.\n",
    "    file_name = '%s.pickle' % fname\n",
    "    print(file_name)\n",
    "    if not item:\n",
    "        with open(file_name, 'rb') as fs:\n",
    "            item = pickle.load(fs)\n",
    "            return item\n",
    "    else:\n",
    "        with open(file_name, 'wb') as fs:\n",
    "            pickle.dump(item, fs, protocol=pickle.HIGHEST_PROTOCOL)"
   ]
  },
  {
   "cell_type": "code",
   "execution_count": 2,
   "metadata": {
    "collapsed": true
   },
   "outputs": [],
   "source": [
    "def learner(model):\n",
    "    if model == 'knn':\n",
    "        clf = KNeighborsClassifier(n_neighbors=3)\n",
    "    elif model == 'tree':\n",
    "        clf = tree.DecisionTreeClassifier()\n",
    "    else:\n",
    "        raise NameError('Unknown machine learning model. Please us one of: rf, svm, nb')\n",
    "    return clf\n",
    "\n",
    "\n",
    "def experiment(train_data, test_data, model):\n",
    "    shuffle(train_data)\n",
    "    shuffle(test_data)\n",
    "    X_train, y_train = [x[0] for x in train_data], [x[1] for x in train_data]\n",
    "    X_test, y_test = [x[0] for x in test_data], [x[1] for x in test_data]\n",
    "    model.fit(X_train, y_train)\n",
    "    print(\"Scores on test set: %s\" % classification_report(y_test, model.predict(X_test)))\n",
    "    print()"
   ]
  },
  {
   "cell_type": "code",
   "execution_count": 3,
   "metadata": {},
   "outputs": [
    {
     "name": "stdout",
     "output_type": "stream",
     "text": [
      "dataset_1.pickle\n",
      "(320, 324)\n"
     ]
    }
   ],
   "source": [
    "dataset = pickle_operating('dataset_1', None)\n",
    "del dataset['train'][0]\n",
    "del dataset['test'][0]\n",
    "print(len(dataset['train']), len(dataset['test']))"
   ]
  },
  {
   "cell_type": "code",
   "execution_count": 4,
   "metadata": {},
   "outputs": [
    {
     "name": "stdout",
     "output_type": "stream",
     "text": [
      "Scores on test set:              precision    recall  f1-score   support\n",
      "\n",
      "          1       0.17      0.36      0.23        36\n",
      "          2       0.13      0.19      0.16        31\n",
      "          3       0.22      0.58      0.32        33\n",
      "          4       0.08      0.05      0.06        21\n",
      "          5       0.36      0.37      0.37        43\n",
      "          6       0.50      0.15      0.23        46\n",
      "          7       0.50      0.22      0.30        32\n",
      "          8       0.27      0.11      0.16        27\n",
      "          9       1.00      0.12      0.21        25\n",
      "         10       1.00      0.50      0.67        30\n",
      "\n",
      "avg / total       0.42      0.28      0.28       324\n",
      "\n",
      "()\n",
      "Scores on test set:              precision    recall  f1-score   support\n",
      "\n",
      "          1       0.02      0.03      0.03        36\n",
      "          2       0.25      0.26      0.25        31\n",
      "          3       0.31      0.27      0.29        33\n",
      "          4       0.13      0.19      0.16        21\n",
      "          5       0.37      0.26      0.30        43\n",
      "          6       0.39      0.37      0.38        46\n",
      "          7       0.27      0.25      0.26        32\n",
      "          8       0.18      0.22      0.20        27\n",
      "          9       0.20      0.20      0.20        25\n",
      "         10       0.46      0.43      0.45        30\n",
      "\n",
      "avg / total       0.27      0.25      0.26       324\n",
      "\n",
      "()\n"
     ]
    }
   ],
   "source": [
    "model = learner('knn')\n",
    "experiment(dataset['train'], dataset['test'], model)\n",
    "model = learner('tree')\n",
    "experiment(dataset['train'], dataset['test'], model)"
   ]
  },
  {
   "cell_type": "code",
   "execution_count": null,
   "metadata": {
    "collapsed": true
   },
   "outputs": [],
   "source": []
  }
 ],
 "metadata": {
  "kernelspec": {
   "display_name": "Python 2",
   "language": "python",
   "name": "python2"
  },
  "language_info": {
   "codemirror_mode": {
    "name": "ipython",
    "version": 2
   },
   "file_extension": ".py",
   "mimetype": "text/x-python",
   "name": "python",
   "nbconvert_exporter": "python",
   "pygments_lexer": "ipython2",
   "version": "2.7.14"
  }
 },
 "nbformat": 4,
 "nbformat_minor": 2
}
