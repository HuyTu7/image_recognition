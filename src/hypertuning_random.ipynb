{
 "cells": [
  {
   "cell_type": "code",
   "execution_count": 10,
   "metadata": {},
   "outputs": [],
   "source": [
    "from time import time\n",
    "from scipy.stats import randint as sp_randint\n",
    "from sklearn.model_selection import GridSearchCV\n",
    "from sklearn.model_selection import RandomizedSearchCV\n",
    "from sklearn.base import BaseEstimator, ClassifierMixin\n",
    "from dtree import *\n",
    "from sklearn.metrics import f1_score\n",
    "\n",
    "class MyClassifier(BaseEstimator, ClassifierMixin): \n",
    "    def __init__(self, min_leaf_size=5, max_level=5, criterion='entropy', splitting='mean'):\n",
    "        params = np.asarray(x)\n",
    "        self.min_leaf_size = min_leaf_size\n",
    "        self.max_level = max_level\n",
    "        self.criterion = criterion\n",
    "        self.splitting = splitting\n",
    "    \n",
    "    def fit(self, X, y=None):\n",
    "        self.model = experiment(X, self.min_leaf_size, self.max_level, self.criterion, self.splitting)\n",
    "        return self\n",
    "\n",
    "    def predict(self, X, y=None):\n",
    "        return predicting(self.model, X)\n",
    "\n",
    "    def score(self, X, y=None):\n",
    "        predicted = self.predict(X)\n",
    "        return f1_score(predicted, y, average='macro')"
   ]
  },
  {
   "cell_type": "code",
   "execution_count": 8,
   "metadata": {},
   "outputs": [
    {
     "name": "stdout",
     "output_type": "stream",
     "text": [
      "Caltech_data_2.pickle\n",
      "(320, 324)\n"
     ]
    }
   ],
   "source": [
    "dataset = pickle_operating('Caltech_data_2', None)\n",
    "print(len(dataset['train']), len(dataset['test']))"
   ]
  },
  {
   "cell_type": "code",
   "execution_count": 22,
   "metadata": {
    "collapsed": true
   },
   "outputs": [],
   "source": [
    "# Utility function to report best scores\n",
    "def report(results, n_top=10):\n",
    "    for i in range(1, n_top + 1):\n",
    "        candidates = np.flatnonzero(results['rank_test_score'] == i)\n",
    "        for candidate in candidates:\n",
    "            print(\"Model with rank: {0}\".format(i))\n",
    "            print(\"Mean validation score: {0:.3f} (std: {1:.3f})\".format(\n",
    "                  results['mean_test_score'][candidate],\n",
    "                  results['std_test_score'][candidate]))\n",
    "            print(\"Parameters: {0}\".format(results['params'][candidate]))\n",
    "            print(\"\")"
   ]
  },
  {
   "cell_type": "code",
   "execution_count": 18,
   "metadata": {},
   "outputs": [
    {
     "name": "stdout",
     "output_type": "stream",
     "text": [
      "RandomizedSearchCV took 1.69 seconds for 1 candidates parameter settings.\n",
      "Model with rank: 1\n",
      "Mean validation score: 0.229 (std: 0.040)\n",
      "Parameters: {'max_level': 6, 'min_leaf_size': 42, 'criterion': 'gini', 'splitting': 'median'}\n",
      "\n"
     ]
    }
   ],
   "source": [
    "X, y  = [x[0] for x in dataset['train']], [x[1] for x in dataset['train']]\n",
    "            \n",
    "# specify parameters and distributions to sample from\n",
    "param_dist = {\"min_leaf_size\": sp_randint(15, 51), \n",
    "              \"max_level\": sp_randint(2, 11), \n",
    "              \"criterion\": [\"entropy\", \"gini\"], \n",
    "              \"splitting\": ['median', \"mean\"]}\n",
    "\n",
    "# run randomized search\n",
    "n_iter_search = 1\n",
    "random_search = RandomizedSearchCV(MyClassifier(), param_dist,\n",
    "                                   cv=5,\n",
    "                                   n_iter=n_iter_search)\n",
    "\n",
    "start = time()\n",
    "random_search.fit(dataset['train'], y)\n",
    "print(\"RandomizedSearchCV took %.2f seconds for %d candidates\"\n",
    "      \" parameter settings.\" % ((time() - start), n_iter_search))\n"
   ]
  },
  {
   "cell_type": "code",
   "execution_count": 23,
   "metadata": {},
   "outputs": [
    {
     "name": "stdout",
     "output_type": "stream",
     "text": [
      "Model with rank: 1\n",
      "Mean validation score: 0.229 (std: 0.040)\n",
      "Parameters: {'max_level': 6, 'min_leaf_size': 42, 'criterion': 'gini', 'splitting': 'median'}\n",
      "\n"
     ]
    }
   ],
   "source": [
    "report(random_search.cv_results_, 5)"
   ]
  },
  {
   "cell_type": "code",
   "execution_count": null,
   "metadata": {
    "collapsed": true
   },
   "outputs": [],
   "source": []
  }
 ],
 "metadata": {
  "kernelspec": {
   "display_name": "Python 2",
   "language": "python",
   "name": "python2"
  },
  "language_info": {
   "codemirror_mode": {
    "name": "ipython",
    "version": 2
   },
   "file_extension": ".py",
   "mimetype": "text/x-python",
   "name": "python",
   "nbconvert_exporter": "python",
   "pygments_lexer": "ipython2",
   "version": "2.7.14"
  }
 },
 "nbformat": 4,
 "nbformat_minor": 2
}
