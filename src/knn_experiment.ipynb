{
 "cells": [
  {
   "cell_type": "code",
   "execution_count": 1,
   "metadata": {
    "collapsed": true
   },
   "outputs": [],
   "source": [
    "from scipy.spatial import distance\n",
    "import pickle\n",
    "from sklearn.metrics import classification_report\n",
    "from random import shuffle\n",
    "import os.path\n",
    "\n",
    "def pickle_operating(fname, item):\n",
    "    # save or load the pickle file.\n",
    "    file_name = '%s.pickle' % fname\n",
    "    print(file_name)\n",
    "    if not item:\n",
    "        with open(file_name, 'rb') as fs:\n",
    "            item = pickle.load(fs)\n",
    "            return item\n",
    "    else:\n",
    "        with open(file_name, 'wb') as fs:\n",
    "            pickle.dump(item, fs, protocol=pickle.HIGHEST_PROTOCOL)"
   ]
  },
  {
   "cell_type": "code",
   "execution_count": 2,
   "metadata": {
    "collapsed": true
   },
   "outputs": [],
   "source": [
    "def getNeighbors(dataset, node, k_val=10):\n",
    "    distances = []\n",
    "    for x in range(len(dataset)):\n",
    "        d = distance.euclidean(node, dataset[x][0])\n",
    "        distances.append((x, d))\n",
    "    distances.sort(key=lambda y: y[1])\n",
    "    neighbors = []\n",
    "    for x in range(k_val):\n",
    "        neighbors.append((distances[x][0], dataset[distances[x][0]][1]))\n",
    "    return neighbors"
   ]
  },
  {
   "cell_type": "code",
   "execution_count": 3,
   "metadata": {},
   "outputs": [],
   "source": [
    "def saveNearestNeighbors(train_data, test_data):\n",
    "    data_nn = []\n",
    "    for x in range(len(test_data)):\n",
    "        node = test_data[x][0]\n",
    "        data_nn.append(getNeighbors(train_data, node, 10))\n",
    "    return data_nn"
   ]
  },
  {
   "cell_type": "code",
   "execution_count": 4,
   "metadata": {
    "collapsed": true
   },
   "outputs": [],
   "source": [
    "def getLabels(neighbors, k_val):\n",
    "    label_votes = {}\n",
    "    for x in range(0, k_val):\n",
    "        label = neighbors[x][1]\n",
    "        if label in label_votes:\n",
    "            label_votes[label] += 1\n",
    "        else:\n",
    "            label_votes[label] = 1\n",
    "    sorted_votes = sorted(label_votes.iteritems(), key=lambda y: y[1], reverse=True)\n",
    "    return sorted_votes[0][0]"
   ]
  },
  {
   "cell_type": "code",
   "execution_count": 5,
   "metadata": {
    "collapsed": true
   },
   "outputs": [],
   "source": [
    "def knn_experiment(testdata, testdata_nn, k=3):\n",
    "    y_classified = []\n",
    "    y_true = [x[1] for x in testdata]\n",
    "    for x in range(len(testdata)):\n",
    "        neighbors = testdata_nn[x]\n",
    "        label = getLabels(neighbors, k)\n",
    "        y_classified.append(label)\n",
    "        #print('%s actual= %s, predicted=%s' % (x, y_true[x], label))\n",
    "    print(classification_report(y_true, y_classified))"
   ]
  },
  {
   "cell_type": "code",
   "execution_count": 6,
   "metadata": {},
   "outputs": [
    {
     "name": "stdout",
     "output_type": "stream",
     "text": [
      "dataset_1.pickle\n",
      "(320, 324)\n"
     ]
    }
   ],
   "source": [
    "dataset = pickle_operating('dataset_1', None)\n",
    "del dataset['train'][0]\n",
    "del dataset['test'][0]\n",
    "print(len(dataset['train']), len(dataset['test']))\n",
    "from random import shuffle\n",
    "shuffle(dataset['train'])\n",
    "shuffle(dataset['test'])"
   ]
  },
  {
   "cell_type": "code",
   "execution_count": 7,
   "metadata": {},
   "outputs": [
    {
     "name": "stdout",
     "output_type": "stream",
     "text": [
      "testdata_nn.pickle\n"
     ]
    }
   ],
   "source": [
    "data_nn = saveNearestNeighbors(dataset['train'], dataset['test'])\n",
    "pickle_operating('testdata_nn', data_nn)"
   ]
  },
  {
   "cell_type": "code",
   "execution_count": 8,
   "metadata": {},
   "outputs": [
    {
     "name": "stdout",
     "output_type": "stream",
     "text": [
      "testdata_nn.pickle\n",
      "             precision    recall  f1-score   support\n",
      "\n",
      "          1       0.16      0.28      0.20        36\n",
      "          2       0.25      0.26      0.25        31\n",
      "          3       0.24      0.52      0.32        33\n",
      "          4       0.00      0.00      0.00        21\n",
      "          5       0.53      0.53      0.53        43\n",
      "          6       0.71      0.22      0.33        46\n",
      "          7       0.40      0.19      0.26        32\n",
      "          8       0.21      0.33      0.26        27\n",
      "          9       0.38      0.36      0.37        25\n",
      "         10       1.00      0.53      0.70        30\n",
      "\n",
      "avg / total       0.42      0.33      0.34       324\n",
      "\n"
     ]
    }
   ],
   "source": [
    "testdata_nn = pickle_operating('testdata_nn', None)\n",
    "knn_experiment(dataset['test'], testdata_nn, 3)"
   ]
  },
  {
   "cell_type": "code",
   "execution_count": null,
   "metadata": {
    "collapsed": true
   },
   "outputs": [],
   "source": []
  }
 ],
 "metadata": {
  "kernelspec": {
   "display_name": "Python 2",
   "language": "python",
   "name": "python2"
  },
  "language_info": {
   "codemirror_mode": {
    "name": "ipython",
    "version": 2
   },
   "file_extension": ".py",
   "mimetype": "text/x-python",
   "name": "python",
   "nbconvert_exporter": "python",
   "pygments_lexer": "ipython2",
   "version": "2.7.14"
  }
 },
 "nbformat": 4,
 "nbformat_minor": 2
}
