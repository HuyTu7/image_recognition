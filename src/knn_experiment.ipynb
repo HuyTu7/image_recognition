{
 "cells": [
  {
   "cell_type": "code",
   "execution_count": null,
   "metadata": {
    "collapsed": true
   },
   "outputs": [],
   "source": [
    "from scipy.spatial import distance\n",
    "\n",
    "def pickle_operating(fname, item):\n",
    "    # save or load the pickle file.\n",
    "    file_name = '%s.pickle' % fname\n",
    "    print(file_name)\n",
    "    if not item:\n",
    "        with open(file_name, 'rb') as fs:\n",
    "            item = pickle.load(fs)\n",
    "            return item\n",
    "    else:\n",
    "        with open(file_name, 'wb') as fs:\n",
    "            pickle.dump(item, fs, protocol=pickle.HIGHEST_PROTOCOL)"
   ]
  },
  {
   "cell_type": "code",
   "execution_count": null,
   "metadata": {
    "collapsed": true
   },
   "outputs": [],
   "source": [
    "def getNeighbors(dataset, node, k_val=10):\n",
    "    distances = []\n",
    "    for x in range(len(dataset)):\n",
    "        d = distance.euclidean(node, dataset[x])\n",
    "        distances.append((x, d))\n",
    "    distances.sort(key=lambda y: y[1])\n",
    "    neighbors = []\n",
    "    for x in range(k_val):\n",
    "        neighbors.append((distances[x][0], dataset[distances[x][0]][1]))\n",
    "    return neighbors"
   ]
  },
  {
   "cell_type": "code",
   "execution_count": null,
   "metadata": {
    "collapsed": true
   },
   "outputs": [],
   "source": [
    "def saveNearestNeighbors(train_data, test_data):\n",
    "    data_nn = []\n",
    "    for x in range(len(test_data)):\n",
    "        node = test_data[x]\n",
    "        data_nn.append(getNeighbors(train_data, node, 10)\n",
    "    return data_nn"
   ]
  },
  {
   "cell_type": "code",
   "execution_count": null,
   "metadata": {
    "collapsed": true
   },
   "outputs": [],
   "source": [
    "def getLabels(neighbors, dataset, k_val):\n",
    "    label_votes = {}\n",
    "    for x in range(len(k_val)):\n",
    "        label = dataset[neighbors[x][1]]\n",
    "        if response in classVotes:\n",
    "            label_votes[label] += 1\n",
    "        else:\n",
    "            label_votes[label] = 1\n",
    "    sortedVotes = sorted(label_votes.iteritems(), key=lambda y: y[1], reverse=True)\n",
    "    return sortedVotes[0][0]"
   ]
  },
  {
   "cell_type": "code",
   "execution_count": null,
   "metadata": {
    "collapsed": true
   },
   "outputs": [],
   "source": [
    "def knn_experiment(testdata, testdata_nn, k=3):\n",
    "    for x in range(len(testSet)):\n",
    "        neighbors = testdata_nn[x]\n",
    "        label = getLabels(neighbors)\n",
    "        classifications.append(label)\n",
    "        print('%s actual= %s, predicted=%s' % (x, testdata[x][1], label))\n",
    "    print(classification_report(y_true, y_pred, target_names=target_names))"
   ]
  },
  {
   "cell_type": "code",
   "execution_count": null,
   "metadata": {
    "collapsed": true
   },
   "outputs": [],
   "source": [
    "dataset = pickle_operating('dataset_1', None)\n",
    "del dataset['train'][0]\n",
    "del dataset['test'][0]\n",
    "print(len(dataset['train']), len(dataset['test']))"
   ]
  },
  {
   "cell_type": "code",
   "execution_count": null,
   "metadata": {
    "collapsed": true
   },
   "outputs": [],
   "source": [
    "data_nn = saveNearestNeighbors(train_data, test_data)\n",
    "pickle_operating('testdata_nn', data_nn)"
   ]
  },
  {
   "cell_type": "code",
   "execution_count": null,
   "metadata": {
    "collapsed": true
   },
   "outputs": [],
   "source": [
    "testdata_nn = pickle_operating('testdata_nn', None)\n",
    "knn_experiment(testdata, testdata_nn, 3)"
   ]
  }
 ],
 "metadata": {
  "kernelspec": {
   "display_name": "Python 2",
   "language": "python",
   "name": "python2"
  },
  "language_info": {
   "codemirror_mode": {
    "name": "ipython",
    "version": 2
   },
   "file_extension": ".py",
   "mimetype": "text/x-python",
   "name": "python",
   "nbconvert_exporter": "python",
   "pygments_lexer": "ipython2",
   "version": "2.7.14"
  }
 },
 "nbformat": 4,
 "nbformat_minor": 2
}
