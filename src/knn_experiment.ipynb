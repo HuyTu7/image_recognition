{
 "cells": [
  {
   "cell_type": "code",
   "execution_count": 24,
   "metadata": {
    "collapsed": true
   },
   "outputs": [],
   "source": [
    "from scipy.spatial import distance\n",
    "import pickle\n",
    "from sklearn.metrics import classification_report\n",
    "from random import shuffle\n",
    "import os.path\n",
    "import numpy as np\n",
    "from scipy.spatial.distance import cdist\n",
    "from scipy.stats import mode\n",
    "\n",
    "def pickle_operating(fname, item):\n",
    "    # save or load the pickle file.\n",
    "    file_name = '%s.pickle' % fname\n",
    "    print(file_name)\n",
    "    if not item:\n",
    "        with open(file_name, 'rb') as fs:\n",
    "            item = pickle.load(fs)\n",
    "            return item\n",
    "    else:\n",
    "        with open(file_name, 'wb') as fs:\n",
    "            pickle.dump(item, fs, protocol=pickle.HIGHEST_PROTOCOL)"
   ]
  },
  {
   "cell_type": "code",
   "execution_count": 44,
   "metadata": {
    "collapsed": true
   },
   "outputs": [],
   "source": [
    "def getNeighbors(dataset, node, k_val=10):\n",
    "    '''\n",
    "    distances = []\n",
    "    for x in range(len(dataset)):\n",
    "        d = distance.euclidean(node, dataset[x][0])\n",
    "        distances.append((x, d))\n",
    "    distances.sort(key=lambda y: y[1])\n",
    "    neighbors = []\n",
    "    for x in range(k_val):\n",
    "        neighbors.append((distances[x][0], dataset[distances[x][0]][1]))\n",
    "    '''\n",
    "    dists = cdist(dataset[0], [node], 'euclidean')\n",
    "    idxes = np.argpartition(dists, k_val, axis=0)[:k_val]\n",
    "    nearest_dists = np.take(dataset[1], idxes)\n",
    "    return nearest_dists"
   ]
  },
  {
   "cell_type": "code",
   "execution_count": 38,
   "metadata": {},
   "outputs": [],
   "source": [
    "def saveNearestNeighbors(train_data, test_data):\n",
    "    data_nn = []\n",
    "    X_train, Y_train = np.array([x[0] for x in train_data]), np.array([x[1] for x in train_data])\n",
    "    for x in range(len(test_data)):\n",
    "        if x % 500 == 0:\n",
    "            print x\n",
    "        node = test_data[x][0]\n",
    "        data_nn.append(getNeighbors([X_train, Y_train], node, 10))\n",
    "    return data_nn"
   ]
  },
  {
   "cell_type": "code",
   "execution_count": 39,
   "metadata": {
    "collapsed": true
   },
   "outputs": [],
   "source": [
    "def getLabels(neighbors, k_val):\n",
    "    label_votes = {}\n",
    "    for x in range(0, k_val):\n",
    "        label = neighbors[x][1]\n",
    "        if label in label_votes:\n",
    "            label_votes[label] += 1\n",
    "        else:\n",
    "            label_votes[label] = 1\n",
    "    sorted_votes = sorted(label_votes.iteritems(), key=lambda y: y[1], reverse=True)\n",
    "    return sorted_votes[0][0]"
   ]
  },
  {
   "cell_type": "code",
   "execution_count": 56,
   "metadata": {
    "collapsed": true
   },
   "outputs": [],
   "source": [
    "def knn_experiment(testdata, testdata_nn, k=3):\n",
    "    y_classified = []\n",
    "    y_true = [x[1] for x in testdata]\n",
    "    for x in range(len(testdata)):\n",
    "        neighbors = testdata_nn[x]\n",
    "        label = mode(neighbors[:k], axis=0)[0][0][0]\n",
    "        #label = getLabels(neighbors, k)\n",
    "        y_classified.append(label)\n",
    "        #print('%s actual= %s, predicted=%s' % (x, y_true[x], label))\n",
    "    print(classification_report(y_true, y_classified))"
   ]
  },
  {
   "cell_type": "code",
   "execution_count": 57,
   "metadata": {},
   "outputs": [
    {
     "name": "stdout",
     "output_type": "stream",
     "text": [
      "Caltech_data_3.pickle\n",
      "(320, 324)\n"
     ]
    }
   ],
   "source": [
    "dataset = pickle_operating('Caltech_data_3', None)\n",
    "print(len(dataset['train']), len(dataset['test']))\n",
    "from random import shuffle\n",
    "shuffle(dataset['train'])\n",
    "shuffle(dataset['test'])"
   ]
  },
  {
   "cell_type": "code",
   "execution_count": 58,
   "metadata": {},
   "outputs": [
    {
     "name": "stdout",
     "output_type": "stream",
     "text": [
      "0\n",
      "Caltech_testdata_nn.pickle\n"
     ]
    }
   ],
   "source": [
    "data_nn = saveNearestNeighbors(dataset['train'], dataset['test'])\n",
    "pickle_operating('Caltech_testdata_nn', data_nn)"
   ]
  },
  {
   "cell_type": "code",
   "execution_count": 59,
   "metadata": {},
   "outputs": [
    {
     "name": "stdout",
     "output_type": "stream",
     "text": [
      "Caltech_testdata_nn.pickle\n",
      "             precision    recall  f1-score   support\n",
      "\n",
      "          1       0.16      0.50      0.24        36\n",
      "          2       0.23      0.23      0.23        31\n",
      "          3       0.45      0.61      0.52        33\n",
      "          4       0.04      0.05      0.04        21\n",
      "          5       0.83      0.58      0.68        43\n",
      "          6       0.33      0.17      0.23        46\n",
      "          7       0.31      0.12      0.18        32\n",
      "          8       0.14      0.07      0.10        27\n",
      "          9       0.75      0.36      0.49        25\n",
      "         10       0.94      0.50      0.65        30\n",
      "\n",
      "avg / total       0.43      0.34      0.35       324\n",
      "\n"
     ]
    }
   ],
   "source": [
    "testdata_nn = pickle_operating('Caltech_testdata_nn', None)\n",
    "knn_experiment(dataset['test'], testdata_nn, 3)"
   ]
  },
  {
   "cell_type": "code",
   "execution_count": 60,
   "metadata": {},
   "outputs": [
    {
     "name": "stdout",
     "output_type": "stream",
     "text": [
      "MNIST_data_2.pickle\n",
      "(60000, 10000)\n"
     ]
    }
   ],
   "source": [
    "dataset = pickle_operating('MNIST_data_2', None)\n",
    "print(len(dataset['train']), len(dataset['test']))\n",
    "shuffle(dataset['train'])\n",
    "shuffle(dataset['test'])"
   ]
  },
  {
   "cell_type": "code",
   "execution_count": 61,
   "metadata": {},
   "outputs": [
    {
     "name": "stdout",
     "output_type": "stream",
     "text": [
      "0\n",
      "500\n",
      "1000\n",
      "1500\n",
      "2000\n",
      "2500\n",
      "3000\n",
      "3500\n",
      "4000\n",
      "4500\n",
      "5000\n",
      "5500\n",
      "6000\n",
      "6500\n",
      "7000\n",
      "7500\n",
      "8000\n",
      "8500\n",
      "9000\n",
      "9500\n",
      "MNIST_testdata_nn.pickle\n"
     ]
    }
   ],
   "source": [
    "data_nn = saveNearestNeighbors(dataset['train'], dataset['test'])\n",
    "pickle_operating('MNIST_testdata_nn', data_nn)"
   ]
  },
  {
   "cell_type": "code",
   "execution_count": 62,
   "metadata": {},
   "outputs": [
    {
     "name": "stdout",
     "output_type": "stream",
     "text": [
      "MNIST_testdata_nn.pickle\n",
      "             precision    recall  f1-score   support\n",
      "\n",
      "          0       0.96      0.99      0.98       980\n",
      "          1       0.98      0.99      0.99      1135\n",
      "          2       0.96      0.97      0.96      1032\n",
      "          3       0.95      0.95      0.95      1010\n",
      "          4       0.95      0.93      0.94       982\n",
      "          5       0.96      0.94      0.95       892\n",
      "          6       0.98      0.98      0.98       958\n",
      "          7       0.97      0.95      0.96      1028\n",
      "          8       0.95      0.94      0.95       974\n",
      "          9       0.91      0.93      0.92      1009\n",
      "\n",
      "avg / total       0.96      0.96      0.96     10000\n",
      "\n"
     ]
    }
   ],
   "source": [
    "testdata_nn = pickle_operating('MNIST_testdata_nn', None)\n",
    "knn_experiment(dataset['test'], testdata_nn, 3)"
   ]
  },
  {
   "cell_type": "code",
   "execution_count": null,
   "metadata": {
    "collapsed": true
   },
   "outputs": [],
   "source": []
  }
 ],
 "metadata": {
  "kernelspec": {
   "display_name": "Python 2",
   "language": "python",
   "name": "python2"
  },
  "language_info": {
   "codemirror_mode": {
    "name": "ipython",
    "version": 2
   },
   "file_extension": ".py",
   "mimetype": "text/x-python",
   "name": "python",
   "nbconvert_exporter": "python",
   "pygments_lexer": "ipython2",
   "version": "2.7.14"
  }
 },
 "nbformat": 4,
 "nbformat_minor": 2
}
