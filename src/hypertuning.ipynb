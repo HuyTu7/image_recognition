{
 "cells": [
  {
   "cell_type": "code",
   "execution_count": 2,
   "metadata": {},
   "outputs": [],
   "source": [
    "from sklearn.base import BaseEstimator, ClassifierMixin\n",
    "from dtree import *\n",
    "from sklearn.metrics import f1_score\n",
    "\n",
    "class Classifier(BaseEstimator, ClassifierMixin): \n",
    "    def __init__(self, *x):\n",
    "        params = np.asarray(x)\n",
    "        if params[0] = \"decision_tree\":\n",
    "            self.min_leaf_size = params[1]\n",
    "            self.max_level = params[2]\n",
    "            self.criterion = params[3]\n",
    "            self.splitting = params[4]\n",
    "    \n",
    "    def fit(self, X, y=None):\n",
    "        self.model = experiment(X)\n",
    "        return self\n",
    "\n",
    "    def predict(self, X, y=None):\n",
    "        return predicting(self.model, X)\n",
    "\n",
    "    def score(self, X, y=None):\n",
    "        predicted = self.predict(X)\n",
    "        return f1_score(predicted, y, average='macro')"
   ]
  },
  {
   "cell_type": "code",
   "execution_count": null,
   "metadata": {
    "collapsed": true
   },
   "outputs": [],
   "source": []
  }
 ],
 "metadata": {
  "kernelspec": {
   "display_name": "Python 2",
   "language": "python",
   "name": "python2"
  },
  "language_info": {
   "codemirror_mode": {
    "name": "ipython",
    "version": 2
   },
   "file_extension": ".py",
   "mimetype": "text/x-python",
   "name": "python",
   "nbconvert_exporter": "python",
   "pygments_lexer": "ipython2",
   "version": "2.7.14"
  }
 },
 "nbformat": 4,
 "nbformat_minor": 2
}
