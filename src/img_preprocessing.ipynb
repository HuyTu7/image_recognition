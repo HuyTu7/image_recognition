{
 "cells": [
  {
   "cell_type": "code",
   "execution_count": 79,
   "metadata": {
    "collapsed": true
   },
   "outputs": [],
   "source": [
    "import sys\n",
    "import os\n",
    "import cv2\n",
    "import itertools\n",
    "import pickle\n",
    "import struct\n",
    "import numpy as np\n",
    "import scipy.io\n",
    "from PIL import Image, ImageFilter\n",
    "from random import shuffle\n",
    "from sklearn.decomposition import PCA\n",
    "import matplotlib.pyplot as plt\n",
    "\n",
    "\n",
    "def pickle_operating(fname, item):\n",
    "    # save or load the pickle file.\n",
    "    file_name = '%s.pickle' % fname\n",
    "    print(file_name)\n",
    "    if not item:\n",
    "        with open(file_name, 'rb') as fs:\n",
    "            item = pickle.load(fs)\n",
    "            return item\n",
    "    else:\n",
    "        with open(file_name, 'wb') as fs:\n",
    "            pickle.dump(item, fs, protocol=pickle.HIGHEST_PROTOCOL)"
   ]
  },
  {
   "cell_type": "code",
   "execution_count": 64,
   "metadata": {},
   "outputs": [],
   "source": [
    "#loading the binary files for MNIST datasets\n",
    "def load_MNIST(dataset=\"training\", path='../MNIST/'):\n",
    "    if dataset is \"training\":\n",
    "        f_img = os.path.join(path, 'train-images.idx3-ubyte')\n",
    "        f_labels = os.path.join(path, 'train-labels.idx1-ubyte')\n",
    "    else:\n",
    "        f_img = os.path.join(path, 't10k-images.idx3-ubyte')\n",
    "        f_labels = os.path.join(path, 't10k-labels.idx1-ubyte')\n",
    "\n",
    "    with open(f_labels, 'rb') as flabels:\n",
    "        magic, num = struct.unpack(\">II\", flabels.read(8))\n",
    "        labels = np.fromfile(flabels, dtype=np.int8)\n",
    "\n",
    "    with open(f_img, 'rb') as fimg:\n",
    "        magic, num, rows, cols = struct.unpack(\">IIII\", fimg.read(16))\n",
    "        imgs = np.fromfile(fimg, dtype=np.uint8).reshape(len(labels), rows, cols)\n",
    "    return imgs, labels"
   ]
  },
  {
   "cell_type": "code",
   "execution_count": 62,
   "metadata": {
    "collapsed": true
   },
   "outputs": [],
   "source": [
    "#deskewing the image of MNIST for \n",
    "#better improvement of features quality\n",
    "def deskew(img):\n",
    "    SZ = 40\n",
    "    m = cv2.moments(img)\n",
    "    if abs(m['mu02']) < 1e-2: return img.copy()\n",
    "    skew = m['mu11']/m['mu02'] \n",
    "    M = np.float32([[1, skew, -0.5*SZ*skew], [0, 1, 0]])\n",
    "    return cv2.warpAffine(img, M, (SZ, SZ), flags=cv2.WARP_INVERSE_MAP | cv2.INTER_LINEAR)"
   ]
  },
  {
   "cell_type": "code",
   "execution_count": 81,
   "metadata": {},
   "outputs": [],
   "source": [
    "imgs_train, labels_train = load_MNIST('training')\n",
    "imgs_test, labels_test = load_MNIST('testing')"
   ]
  },
  {
   "cell_type": "code",
   "execution_count": 82,
   "metadata": {
    "collapsed": true
   },
   "outputs": [],
   "source": [
    "#performing necessary preprocessing steps for MNIST dataset\n",
    "def preprocess_MNIST_imgs(data):\n",
    "    imgs = []\n",
    "    for img in data:\n",
    "        img = deskew(img)\n",
    "        image = img.flatten()\n",
    "        imgs.append(image)\n",
    "    return imgs"
   ]
  },
  {
   "cell_type": "code",
   "execution_count": 83,
   "metadata": {
    "collapsed": true
   },
   "outputs": [],
   "source": [
    "#principal component analysis for feature selection\n",
    "def pca(X_train, n_feature):\n",
    "    pca = PCA(n_components=n_feature)\n",
    "    pca.fit(X_train)\n",
    "    return pca"
   ]
  },
  {
   "cell_type": "code",
   "execution_count": 135,
   "metadata": {},
   "outputs": [],
   "source": [
    "MNIST_data = {}\n",
    "data_train = preprocess_MNIST_imgs(imgs_train)\n",
    "data_test = preprocess_MNIST_imgs(imgs_test)\n",
    "MNIST_data['train'], MNIST_data['test'] = [data_train, labels_train], [data_test, labels_test]"
   ]
  },
  {
   "cell_type": "code",
   "execution_count": 136,
   "metadata": {},
   "outputs": [
    {
     "name": "stdout",
     "output_type": "stream",
     "text": [
      "Accumulative number of features: 1600\n"
     ]
    },
    {
     "data": {
      "image/png": "[encoded data removed]",
      "text/plain": [
       "<matplotlib.figure.Figure at 0x7f74b91d7350>"
      ]
     },
     "metadata": {},
     "output_type": "display_data"
    }
   ],
   "source": [
    "mnist_pca = pca(MNIST_data['train'][0], 200)\n",
    "print(\"Accumulative number of features: %s\" % len(MNIST_data['train'][0][0]))\n",
    "\n",
    "plt.plot(np.cumsum(mnist_pca.explained_variance_ratio_))\n",
    "plt.xlabel('Number of features')\n",
    "plt.ylabel('Cumulative explained variance')\n",
    "plt.show()"
   ]
  },
  {
   "cell_type": "code",
   "execution_count": 133,
   "metadata": {},
   "outputs": [
    {
     "name": "stdout",
     "output_type": "stream",
     "text": [
      "MNIST_data_2.pickle\n"
     ]
    }
   ],
   "source": [
    "mnist_pca = pca(MNIST_data['train'][0], 16)\n",
    "\n",
    "MNIST_data['train'][0] = mnist_pca.transform(MNIST_data['train'][0])\n",
    "MNIST_data['test'][0] = mnist_pca.transform(MNIST_data['test'][0])\n",
    "MNIST_data['train'] = [(MNIST_data['train'][0][i], MNIST_data['train'][1][i]) for i in range(len(MNIST_data['train'][0]))]\n",
    "MNIST_data['test'] = [(MNIST_data['test'][0][i], MNIST_data['test'][1][i]) for i in range(len(MNIST_data['test'][0]))]\n",
    "pickle_operating('MNIST_data_2', MNIST_data)"
   ]
  },
  {
   "cell_type": "code",
   "execution_count": 103,
   "metadata": {
    "collapsed": true
   },
   "outputs": [],
   "source": [
    "#structures folders for Caltech\n",
    "structures = [x for x in os.walk('../Caltech10/')]"
   ]
  },
  {
   "cell_type": "code",
   "execution_count": 123,
   "metadata": {
    "collapsed": true
   },
   "outputs": [],
   "source": [
    "#performing necessary preprocessing steps for Caltech images\n",
    "def preprocess_Caltech_imgs(folders):\n",
    "    dataset = {'categories': {}, 'data': {}}\n",
    "    data = []\n",
    "    label = 0\n",
    "    size = (128, 128)\n",
    "    for f in folders:\n",
    "        dataset['categories'][f[0]] = label\n",
    "        dataset['data'][label] = []\n",
    "        for i in f[2]:\n",
    "            #image = Image.open(\"%s/%s\"%(f[0], i)).resize(size)\n",
    "            #image = image.convert(\"L\").filter(ImageFilter.GaussianBlur(radius = 2))\n",
    "            #im_data = list(image.getdata())\n",
    "            img = cv2.imread(\"%s/%s\"%(f[0], i))\n",
    "            resized_img = cv2.resize(img, size) #resizing the img\n",
    "            im_data = resized_img.flatten() #flatten the image\n",
    "            dataset['data'][label].append((im_data, label))\n",
    "        label += 1\n",
    "    return dataset"
   ]
  },
  {
   "cell_type": "code",
   "execution_count": 124,
   "metadata": {
    "collapsed": true
   },
   "outputs": [],
   "source": [
    "#splitting 50% for testing and training data for Caltech\n",
    "def train_test_splitting(size, data):\n",
    "    train_data, test_data = [], []\n",
    "    for i in data.keys():\n",
    "        x = range(len(data[i]))\n",
    "        shuffle(x)\n",
    "        train_size = int(size*len(data[i]))\n",
    "        train_indexes, test_indexes = x[:train_size], x[train_size:]\n",
    "        train_data.extend(np.array(data[i])[train_indexes]) \n",
    "        test_data.extend(np.array(data[i])[test_indexes])\n",
    "    del train_data[0]\n",
    "    del test_data[0]\n",
    "    return train_data, test_data"
   ]
  },
  {
   "cell_type": "code",
   "execution_count": 138,
   "metadata": {},
   "outputs": [
    {
     "name": "stdout",
     "output_type": "stream",
     "text": [
      "Caltech_data_3.pickle\n"
     ]
    }
   ],
   "source": [
    "dataset_temp = preprocess_Caltech_imgs(structures)\n",
    "caltech_data = {}\n",
    "caltech_data['train'], caltech_data['test'] = [], []\n",
    "caltech_data['train'], caltech_data['test'] = train_test_splitting(0.5, dataset_temp['data'])\n",
    "pickle_operating('Caltech_data_3', caltech_data)"
   ]
  },
  {
   "cell_type": "code",
   "execution_count": 139,
   "metadata": {},
   "outputs": [
    {
     "name": "stdout",
     "output_type": "stream",
     "text": [
      "Accumulative number of features: 49152\n"
     ]
    },
    {
     "data": {
      "image/png": "[encoded data removed]",
      "text/plain": [
       "<matplotlib.figure.Figure at 0x7f74a6a158d0>"
      ]
     },
     "metadata": {},
     "output_type": "display_data"
    }
   ],
   "source": [
    "caltech_train = [x[0] for x in caltech_data['train']]\n",
    "caltech_test = [x[0] for x in caltech_data['test']]\n",
    "print(\"Accumulative number of features: %s\" % len(caltech_train[0]))\n",
    "caltech_pca = pca(caltech_train, 200)\n",
    "\n",
    "plt.plot(np.cumsum(caltech_pca.explained_variance_ratio_))\n",
    "plt.xlabel('Number of features')\n",
    "plt.ylabel('Cumulative explained variance')\n",
    "plt.show()"
   ]
  },
  {
   "cell_type": "code",
   "execution_count": 132,
   "metadata": {},
   "outputs": [
    {
     "name": "stdout",
     "output_type": "stream",
     "text": [
      "Caltech_data_3.pickle\n"
     ]
    }
   ],
   "source": [
    "caltech_pca = pca(caltech_train, 50)\n",
    "caltech_train_pca = caltech_pca.transform(caltech_train)\n",
    "caltech_test_pca = caltech_pca.transform(caltech_test)\n",
    "caltech_data['train'] = [(caltech_train_pca[i], caltech_data['train'][i][1]) for i in range(len(caltech_train_pca))]\n",
    "caltech_data['test'] = [(caltech_test_pca[i], caltech_data['test'][i][1]) for i in range(len(caltech_test_pca))]\n",
    "pickle_operating('Caltech_data_3', caltech_data)"
   ]
  },
  {
   "cell_type": "code",
   "execution_count": null,
   "metadata": {
    "collapsed": true
   },
   "outputs": [],
   "source": []
  }
 ],
 "metadata": {
  "kernelspec": {
   "display_name": "Python 2",
   "language": "python",
   "name": "python2"
  },
  "language_info": {
   "codemirror_mode": {
    "name": "ipython",
    "version": 2
   },
   "file_extension": ".py",
   "mimetype": "text/x-python",
   "name": "python",
   "nbconvert_exporter": "python",
   "pygments_lexer": "ipython2",
   "version": "2.7.14"
  }
 },
 "nbformat": 4,
 "nbformat_minor": 2
}
